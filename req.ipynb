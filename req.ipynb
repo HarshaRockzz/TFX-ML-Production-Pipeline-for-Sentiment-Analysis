{
 "cells": [
  {
   "cell_type": "code",
   "execution_count": null,
   "metadata": {},
   "outputs": [],
   "source": [
    "import os\n",
    "import pandas as pd\n",
    "import tensorflow as tf\n",
    "import requests\n",
    "import json\n",
    "import base64"
   ]
  },
  {
   "cell_type": "code",
   "execution_count": null,
   "metadata": {},
   "outputs": [],
   "source": [
    "directory_path = '/content/drive/MyDrive/1_movies_per_genre'\n",
    "\n",
    "# List all files in the directory\n",
    "files = os.listdir(directory_path)\n",
    "print(\"Files in directory:\", files)\n",
    "\n",
    "# Initialize an empty dictionary to hold DataFrames\n",
    "dataframes = {}\n",
    "\n",
    "# Iterate over each file in the directory\n",
    "for file in files:\n",
    "    # Check if the file is a CSV\n",
    "    if file.endswith('.csv'):\n",
    "        # Construct full file path\n",
    "        file_path = os.path.join(directory_path, file)\n",
    "        # Read the CSV file into a DataFrame\n",
    "        df = pd.read_csv(file_path)\n",
    "        # Store the DataFrame in the dictionary with the filename (without extension) as the key\n",
    "        dataframes[file[:-4]] = df\n",
    "\n",
    "        # Optionally, print the first few rows of each DataFrame\n",
    "        print(f\"First few rows of {file}:\")\n",
    "        print(df.head())\n",
    "        print(\"\\n\")"
   ]
  },
  {
   "cell_type": "code",
   "execution_count": null,
   "metadata": {},
   "outputs": [],
   "source": [
    "def prepare_json(text):\n",
    "    feature_spec = {\n",
    "        'review': tf.train.Feature(bytes_list=tf.train.BytesList(value=[bytes(text, 'utf-8')]))\n",
    "    }\n",
    "    \n",
    "    example = tf.train.Example(\n",
    "        features=tf.train.Features(feature=feature_spec)\n",
    "    ).SerializeToString()\n",
    "    \n",
    "    result = [{\n",
    "        'examples': {\n",
    "            'b64': base64.b64encode(example).decode()\n",
    "        }\n",
    "    }]\n",
    "    \n",
    "    return json.dumps({\n",
    "        'signature_name': 'serving_default',\n",
    "        'instances': result\n",
    "    })"
   ]
  },
  {
   "cell_type": "code",
   "execution_count": null,
   "metadata": {},
   "outputs": [],
   "source": [
    "def predict(text):\n",
    "    response = requests.post(\n",
    "        'http://localhost:8501/v1/models/imdb-review-model:predict',\n",
    "        data=prepare_json(text)\n",
    "    )\n",
    "    \n",
    "    prediction = response.json()['predictions'][0][0]\n",
    "    return prediction"
   ]
  },
  {
   "cell_type": "code",
   "execution_count": null,
   "metadata": {},
   "outputs": [],
   "source": [
    "for key, df in dataframes.items():\n",
    "    text = df['review'][0]  # Adjust the column name if necessary\n",
    "\n",
    "    # Get prediction for the sample text\n",
    "    prediction = predict(text)\n",
    "\n",
    "    # Print the result\n",
    "    print(f'Review from {key} dataset at index 0:')\n",
    "    print(text)\n",
    "    print(f'Positive Review ({prediction})' if prediction > 0.5 else f'Negative Review ({prediction})')\n",
    "    print(\"\\n\")"
   ]
  }
 ],
 "metadata": {
  "language_info": {
   "name": "python"
  }
 },
 "nbformat": 4,
 "nbformat_minor": 2
}
